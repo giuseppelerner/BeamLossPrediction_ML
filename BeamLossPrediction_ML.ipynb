{
 "cells": [
  {
   "cell_type": "code",
   "execution_count": 1,
   "metadata": {},
   "outputs": [
    {
     "name": "stderr",
     "output_type": "stream",
     "text": [
      "Using TensorFlow backend.\n"
     ]
    }
   ],
   "source": [
    "import pandas as pd\n",
    "import numpy as np\n",
    "import logging \n",
    "import math\n",
    "\n",
    "from sklearn.preprocessing import StandardScaler,MinMaxScaler,RobustScaler # to scale data\n",
    "from sklearn.model_selection import train_test_split\n",
    "from sklearn.metrics import roc_curve,roc_auc_score,accuracy_score\n",
    "\n",
    "# NN model\n",
    "import keras\n",
    "from keras.models import Sequential\n",
    "from keras.models import load_model\n",
    "from keras.layers import Dense\n",
    "from keras.optimizers import SGD #test keras\n",
    "\n",
    "# for plotting\n",
    "import matplotlib.pyplot as plt\n",
    "import seaborn as sns\n",
    "\n",
    "\n",
    "# machine learning model to predict the loss rate of the beam in the main collimators as a function of a set of operational parameters\n",
    "# The loss rate is expressed through the IR7_lifetime variable (high IR7 lifetime = low loss rate)\n",
    "# The input variables are retrieved from the CERN Logging Database, arranged in dataframes and saved in csv files in a separate notebook\n"
   ]
  },
  {
   "cell_type": "code",
   "execution_count": 2,
   "metadata": {},
   "outputs": [],
   "source": [
    "pd.set_option('display.max_rows', 200)\n",
    "\n",
    "train = True\n",
    "\n",
    "# use logger for printouts\n",
    "logging.basicConfig(level=logging.INFO)\n",
    "logger = logging.getLogger()"
   ]
  },
  {
   "cell_type": "code",
   "execution_count": 3,
   "metadata": {},
   "outputs": [
    {
     "name": "stderr",
     "output_type": "stream",
     "text": [
      "INFO:root:Reading input files\n"
     ]
    },
    {
     "name": "stdout",
     "output_type": "stream",
     "text": [
      "Printing head, columns and shape of first dataframe\n",
      "     Unnamed: 0  LifetimeB1  LifetimeB2  ATLASlumi  CMSlumi         IntB1  \\\n",
      "0  1.528550e+09      13.398      17.711   0.000000      0.0  3.000000e+09   \n",
      "1  1.528550e+09      18.033      11.097   0.003093      0.0  2.817678e+14   \n",
      "2  1.528550e+09       9.961      11.613   0.006331      0.0  2.815667e+14   \n",
      "3  1.528550e+09       3.621      14.621   0.005287      0.0  2.813575e+14   \n",
      "4  1.528550e+09       6.193      20.903   0.007324      0.0  2.811533e+14   \n",
      "\n",
      "          IntB2      Ene  Betastar_IP1  Betastar_IP5  Xing_IP1  Xing_IP5  \\\n",
      "0 -4.100000e+08  54160.0          25.0          25.0     130.0     130.0   \n",
      "1  2.814936e+14   3755.0          25.0          25.0     130.0     130.0   \n",
      "2  2.812258e+14   3775.0          25.0          25.0     160.0     160.0   \n",
      "3  2.811517e+14   3815.0          25.0          25.0     160.0     160.0   \n",
      "4  2.810994e+14   3865.0          25.0          25.0     160.0     160.0   \n",
      "\n",
      "   BMode  \n",
      "0    7.0  \n",
      "1    7.0  \n",
      "2    7.0  \n",
      "3    7.0  \n",
      "4    7.0  \n",
      "Index(['Unnamed: 0', 'LifetimeB1', 'LifetimeB2', 'ATLASlumi', 'CMSlumi',\n",
      "       'IntB1', 'IntB2', 'Ene', 'Betastar_IP1', 'Betastar_IP5', 'Xing_IP1',\n",
      "       'Xing_IP5', 'BMode'],\n",
      "      dtype='object')\n",
      "(5388, 13)\n"
     ]
    }
   ],
   "source": [
    "logger.info('Reading input files')\n",
    "files = [\"data/df_6772.csv\",\"data/df_6909.csv\"]\n",
    "frames = []\n",
    "\n",
    "# read input dataframes and print the structure of the first one. One column for each relevant variable.\n",
    "for i,f in enumerate(files):\n",
    "    frames.append(pd.read_csv(f))\n",
    "    if i==0 :\n",
    "        print('Printing head, columns and shape of first dataframe')\n",
    "        print(frames[i].head())\n",
    "        print(frames[i].columns)\n",
    "        print(frames[i].shape)"
   ]
  },
  {
   "cell_type": "code",
   "execution_count": 4,
   "metadata": {},
   "outputs": [
    {
     "name": "stderr",
     "output_type": "stream",
     "text": [
      "INFO:root:Concatenating DataFrames\n"
     ]
    }
   ],
   "source": [
    "logger.info('Concatenating DataFrames')        \n",
    "df = pd.concat(frames)"
   ]
  },
  {
   "cell_type": "code",
   "execution_count": 5,
   "metadata": {},
   "outputs": [
    {
     "name": "stderr",
     "output_type": "stream",
     "text": [
      "INFO:root:Cleaning beam mode: keep >5 and <12\n",
      "INFO:root:Converting DataFrame into np arrays\n"
     ]
    }
   ],
   "source": [
    "# I want only beam mode >5 <12, i.e. between prepare energy ramp and stable beams (included)\n",
    "# Below: list of beam mode codes as logged in the \"HX:BMODE\" timber variable\n",
    "#setup 2\n",
    "#injection probe beam 3\n",
    "#injection setup beam 4\n",
    "#injection physics beam 5\n",
    "#prepare ramp 6\n",
    "#ramp 7\n",
    "#flat top 8\n",
    "#squeeze 9\n",
    "#adjust 10\n",
    "#stable beams 11\n",
    "#unstable beams 12\n",
    "#beam dump 13\n",
    "#ramp down 14\n",
    "#recovery 15\n",
    "#inject and dump 16\n",
    "#circulate and dump 17\n",
    "#abort 18\n",
    "#cycling 19\n",
    "#beam dump warning 20\n",
    "#no beam 21\n",
    "#prepare injection 22\n",
    "\n",
    "logger.info(\"Cleaning beam mode: keep >5 and <12\")\n",
    "df = df[(df['BMode']>5) & (df['BMode']<12)]\n",
    "\n",
    "logger.info('Converting DataFrame into np arrays')\n",
    "X = df[['ATLASlumi', 'CMSlumi', 'IntB1', 'Ene', 'Betastar_IP1', 'Betastar_IP5', 'Xing_IP1','Xing_IP5', 'BMode']].values\n",
    "y = df['LifetimeB1'].values"
   ]
  },
  {
   "cell_type": "code",
   "execution_count": 6,
   "metadata": {},
   "outputs": [
    {
     "name": "stderr",
     "output_type": "stream",
     "text": [
      "INFO:root:Scaling features\n"
     ]
    }
   ],
   "source": [
    "# scaling (necessary for the stability of the ML model)\n",
    "logger.info('Scaling features')\n",
    "sc = MinMaxScaler() # best scaler so far\n",
    "#sc = RobustScaler()\n",
    "#sc = StandardScaler()\n",
    "X = sc.fit_transform(X)\n",
    "y = y.reshape(-1,1) # arrange y vector in correct format\n",
    "y = sc.fit_transform(y)"
   ]
  },
  {
   "cell_type": "code",
   "execution_count": 7,
   "metadata": {},
   "outputs": [
    {
     "name": "stderr",
     "output_type": "stream",
     "text": [
      "INFO:root:Train and test splitting\n"
     ]
    }
   ],
   "source": [
    "logger.info('Train and test splitting')\n",
    "X_train,X_test,y_train,y_test = train_test_split(X,y,test_size = 0.3)"
   ]
  },
  {
   "cell_type": "code",
   "execution_count": 8,
   "metadata": {},
   "outputs": [
    {
     "name": "stderr",
     "output_type": "stream",
     "text": [
      "INFO:root:Model definition and compilation\n"
     ]
    }
   ],
   "source": [
    "logger.info('Model definition and compilation')\n",
    "model = Sequential() # creating model sequentially (each layer takes as input output of previous layer)\n",
    "model.add(Dense(10, input_dim=9, activation='relu', kernel_initializer='normal')) # Dense: fully connected layer\n",
    "model.add(Dense(80, activation='relu', kernel_initializer='normal'))\n",
    "model.add(Dense(1, kernel_initializer='normal')) # to check: best activation function for single-value output"
   ]
  },
  {
   "cell_type": "code",
   "execution_count": 9,
   "metadata": {},
   "outputs": [
    {
     "name": "stderr",
     "output_type": "stream",
     "text": [
      "INFO:root:Model training\n"
     ]
    },
    {
     "name": "stdout",
     "output_type": "stream",
     "text": [
      "Train on 11519 samples, validate on 4938 samples\n",
      "Epoch 1/100\n",
      "11519/11519 [==============================] - 1s 82us/step - loss: 8.5327e-04 - val_loss: 6.3284e-04\n",
      "Epoch 2/100\n",
      "11519/11519 [==============================] - 1s 72us/step - loss: 6.7395e-04 - val_loss: 6.2182e-04\n",
      "Epoch 3/100\n",
      "11519/11519 [==============================] - 1s 63us/step - loss: 6.6803e-04 - val_loss: 6.5008e-04\n",
      "Epoch 4/100\n",
      "11519/11519 [==============================] - 1s 68us/step - loss: 6.5837e-04 - val_loss: 6.3153e-04\n",
      "Epoch 5/100\n",
      "11519/11519 [==============================] - 1s 74us/step - loss: 6.5445e-04 - val_loss: 6.3741e-04\n",
      "Epoch 6/100\n",
      "11519/11519 [==============================] - 1s 72us/step - loss: 6.5858e-04 - val_loss: 6.1958e-04\n",
      "Epoch 7/100\n",
      "11519/11519 [==============================] - 1s 72us/step - loss: 6.4933e-04 - val_loss: 6.4537e-04\n",
      "Epoch 8/100\n",
      "11519/11519 [==============================] - 1s 73us/step - loss: 6.5362e-04 - val_loss: 6.2963e-04\n",
      "Epoch 9/100\n",
      "11519/11519 [==============================] - 1s 70us/step - loss: 6.5640e-04 - val_loss: 6.1354e-04\n",
      "Epoch 10/100\n",
      "11519/11519 [==============================] - 1s 71us/step - loss: 6.4210e-04 - val_loss: 6.0832e-04\n",
      "Epoch 11/100\n",
      "11519/11519 [==============================] - 1s 73us/step - loss: 6.4129e-04 - val_loss: 6.0994e-04\n",
      "Epoch 12/100\n",
      "11519/11519 [==============================] - 1s 73us/step - loss: 6.3603e-04 - val_loss: 6.8270e-04\n",
      "Epoch 13/100\n",
      "11519/11519 [==============================] - 1s 74us/step - loss: 6.4327e-04 - val_loss: 6.3082e-04\n",
      "Epoch 14/100\n",
      "11519/11519 [==============================] - 1s 73us/step - loss: 6.2838e-04 - val_loss: 6.3629e-04\n",
      "Epoch 15/100\n",
      "11519/11519 [==============================] - 1s 70us/step - loss: 6.2358e-04 - val_loss: 5.9651e-04\n",
      "Epoch 16/100\n",
      "11519/11519 [==============================] - 1s 74us/step - loss: 6.2992e-04 - val_loss: 5.9363e-04\n",
      "Epoch 17/100\n",
      "11519/11519 [==============================] - 1s 69us/step - loss: 6.1233e-04 - val_loss: 5.9435e-04\n",
      "Epoch 18/100\n",
      "11519/11519 [==============================] - 1s 73us/step - loss: 5.9665e-04 - val_loss: 6.0982e-04\n",
      "Epoch 19/100\n",
      "11519/11519 [==============================] - 1s 72us/step - loss: 5.9463e-04 - val_loss: 6.1741e-04\n",
      "Epoch 20/100\n",
      "11519/11519 [==============================] - 1s 74us/step - loss: 5.7918e-04 - val_loss: 5.7182e-04\n",
      "Epoch 21/100\n",
      "11519/11519 [==============================] - 1s 72us/step - loss: 5.5373e-04 - val_loss: 5.4627e-04\n",
      "Epoch 22/100\n",
      "11519/11519 [==============================] - 1s 74us/step - loss: 5.3874e-04 - val_loss: 5.1966e-04\n",
      "Epoch 23/100\n",
      "11519/11519 [==============================] - 1s 71us/step - loss: 5.2150e-04 - val_loss: 5.4271e-04\n",
      "Epoch 24/100\n",
      "11519/11519 [==============================] - 1s 74us/step - loss: 5.0855e-04 - val_loss: 5.1576e-04\n",
      "Epoch 25/100\n",
      "11519/11519 [==============================] - 1s 71us/step - loss: 4.8227e-04 - val_loss: 5.0436e-04\n",
      "Epoch 26/100\n",
      "11519/11519 [==============================] - 1s 71us/step - loss: 4.5951e-04 - val_loss: 4.8413e-04\n",
      "Epoch 27/100\n",
      "11519/11519 [==============================] - 1s 73us/step - loss: 4.5663e-04 - val_loss: 4.6982e-04\n",
      "Epoch 28/100\n",
      "11519/11519 [==============================] - 1s 72us/step - loss: 4.3684e-04 - val_loss: 4.5012e-04\n",
      "Epoch 29/100\n",
      "11519/11519 [==============================] - 1s 61us/step - loss: 4.1831e-04 - val_loss: 4.4251e-04\n",
      "Epoch 30/100\n",
      "11519/11519 [==============================] - 1s 56us/step - loss: 3.9351e-04 - val_loss: 4.4523e-04\n",
      "Epoch 31/100\n",
      "11519/11519 [==============================] - 1s 56us/step - loss: 3.8928e-04 - val_loss: 4.2668e-04\n",
      "Epoch 32/100\n",
      "11519/11519 [==============================] - 1s 54us/step - loss: 3.7344e-04 - val_loss: 4.0208e-04\n",
      "Epoch 33/100\n",
      "11519/11519 [==============================] - 1s 59us/step - loss: 3.5261e-04 - val_loss: 4.5874e-04\n",
      "Epoch 34/100\n",
      "11519/11519 [==============================] - 1s 52us/step - loss: 3.4348e-04 - val_loss: 3.6748e-04\n",
      "Epoch 35/100\n",
      "11519/11519 [==============================] - 1s 58us/step - loss: 3.3941e-04 - val_loss: 3.7599e-04\n",
      "Epoch 36/100\n",
      "11519/11519 [==============================] - 1s 55us/step - loss: 3.1834e-04 - val_loss: 4.0929e-04\n",
      "Epoch 37/100\n",
      "11519/11519 [==============================] - 1s 56us/step - loss: 3.1393e-04 - val_loss: 3.4924e-04\n",
      "Epoch 38/100\n",
      "11519/11519 [==============================] - 1s 56us/step - loss: 2.9072e-04 - val_loss: 3.2615e-04\n",
      "Epoch 39/100\n",
      "11519/11519 [==============================] - 1s 58us/step - loss: 2.9873e-04 - val_loss: 3.2122e-04\n",
      "Epoch 40/100\n",
      "11519/11519 [==============================] - 1s 55us/step - loss: 2.8627e-04 - val_loss: 3.0388e-04\n",
      "Epoch 41/100\n",
      "11519/11519 [==============================] - 1s 57us/step - loss: 2.8618e-04 - val_loss: 3.4465e-04\n",
      "Epoch 42/100\n",
      "11519/11519 [==============================] - 1s 57us/step - loss: 2.7338e-04 - val_loss: 3.5850e-04\n",
      "Epoch 43/100\n",
      "11519/11519 [==============================] - 1s 58us/step - loss: 2.6509e-04 - val_loss: 3.0633e-04\n",
      "Epoch 44/100\n",
      "11519/11519 [==============================] - 1s 58us/step - loss: 2.7130e-04 - val_loss: 2.8626e-04\n",
      "Epoch 45/100\n",
      "11519/11519 [==============================] - 1s 58us/step - loss: 2.6339e-04 - val_loss: 2.8263e-04\n",
      "Epoch 46/100\n",
      "11519/11519 [==============================] - 1s 57us/step - loss: 2.6173e-04 - val_loss: 3.0921e-04\n",
      "Epoch 47/100\n",
      "11519/11519 [==============================] - 1s 59us/step - loss: 2.6176e-04 - val_loss: 2.8789e-04\n",
      "Epoch 48/100\n",
      "11519/11519 [==============================] - 1s 58us/step - loss: 2.6773e-04 - val_loss: 2.8126e-04\n",
      "Epoch 49/100\n",
      "11519/11519 [==============================] - 1s 55us/step - loss: 2.5498e-04 - val_loss: 2.7749e-04\n",
      "Epoch 50/100\n",
      "11519/11519 [==============================] - 1s 61us/step - loss: 2.5203e-04 - val_loss: 2.9635e-04\n",
      "Epoch 51/100\n",
      "11519/11519 [==============================] - 1s 69us/step - loss: 2.5478e-04 - val_loss: 2.8071e-04\n",
      "Epoch 52/100\n",
      "11519/11519 [==============================] - 1s 58us/step - loss: 2.6301e-04 - val_loss: 2.8651e-04\n",
      "Epoch 53/100\n",
      "11519/11519 [==============================] - 1s 56us/step - loss: 2.5836e-04 - val_loss: 3.1202e-04\n",
      "Epoch 54/100\n",
      "11519/11519 [==============================] - 1s 75us/step - loss: 2.5878e-04 - val_loss: 2.9439e-04\n",
      "Epoch 55/100\n",
      "11519/11519 [==============================] - 1s 70us/step - loss: 2.5219e-04 - val_loss: 2.7778e-04\n",
      "Epoch 56/100\n",
      "11519/11519 [==============================] - 1s 72us/step - loss: 2.4834e-04 - val_loss: 2.7701e-04\n",
      "Epoch 57/100\n",
      "11519/11519 [==============================] - 1s 73us/step - loss: 2.5122e-04 - val_loss: 3.0747e-04\n",
      "Epoch 58/100\n",
      "11519/11519 [==============================] - 1s 71us/step - loss: 2.6701e-04 - val_loss: 2.7033e-04\n",
      "Epoch 59/100\n",
      "11519/11519 [==============================] - 1s 72us/step - loss: 2.4428e-04 - val_loss: 2.6361e-04\n",
      "Epoch 60/100\n",
      "11519/11519 [==============================] - 1s 72us/step - loss: 2.4255e-04 - val_loss: 2.6537e-04\n",
      "Epoch 61/100\n",
      "11519/11519 [==============================] - 1s 72us/step - loss: 2.4105e-04 - val_loss: 2.5464e-04\n",
      "Epoch 62/100\n",
      "11519/11519 [==============================] - 1s 72us/step - loss: 2.4956e-04 - val_loss: 2.8170e-04\n",
      "Epoch 63/100\n",
      "11519/11519 [==============================] - 1s 74us/step - loss: 2.4267e-04 - val_loss: 3.3708e-04\n",
      "Epoch 64/100\n",
      "11519/11519 [==============================] - 1s 73us/step - loss: 2.4272e-04 - val_loss: 2.5715e-04\n",
      "Epoch 65/100\n",
      "11519/11519 [==============================] - 1s 74us/step - loss: 2.4511e-04 - val_loss: 2.8635e-04\n",
      "Epoch 66/100\n",
      "11519/11519 [==============================] - 1s 73us/step - loss: 2.4545e-04 - val_loss: 2.9290e-04\n",
      "Epoch 67/100\n",
      "11519/11519 [==============================] - 1s 74us/step - loss: 2.5340e-04 - val_loss: 2.6651e-04\n",
      "Epoch 68/100\n",
      "11519/11519 [==============================] - 1s 74us/step - loss: 2.4061e-04 - val_loss: 2.9602e-04\n",
      "Epoch 69/100\n",
      "11519/11519 [==============================] - 1s 76us/step - loss: 2.3499e-04 - val_loss: 2.6738e-04\n",
      "Epoch 70/100\n",
      "11519/11519 [==============================] - 1s 73us/step - loss: 2.6264e-04 - val_loss: 2.5956e-04\n",
      "Epoch 71/100\n",
      "11519/11519 [==============================] - 1s 75us/step - loss: 2.5150e-04 - val_loss: 2.5514e-04\n"
     ]
    },
    {
     "name": "stdout",
     "output_type": "stream",
     "text": [
      "Epoch 72/100\n",
      "11519/11519 [==============================] - 1s 71us/step - loss: 2.5069e-04 - val_loss: 2.8108e-04\n",
      "Epoch 73/100\n",
      "11519/11519 [==============================] - 1s 76us/step - loss: 2.4382e-04 - val_loss: 3.1020e-04\n",
      "Epoch 74/100\n",
      "11519/11519 [==============================] - 1s 72us/step - loss: 2.5081e-04 - val_loss: 2.6208e-04\n",
      "Epoch 75/100\n",
      "11519/11519 [==============================] - 1s 75us/step - loss: 2.3750e-04 - val_loss: 2.5118e-04\n",
      "Epoch 76/100\n",
      "11519/11519 [==============================] - 1s 72us/step - loss: 2.4745e-04 - val_loss: 2.7911e-04\n",
      "Epoch 77/100\n",
      "11519/11519 [==============================] - 1s 73us/step - loss: 2.5425e-04 - val_loss: 2.6083e-04\n",
      "Epoch 78/100\n",
      "11519/11519 [==============================] - 1s 72us/step - loss: 2.4131e-04 - val_loss: 3.4516e-04\n",
      "Epoch 79/100\n",
      "11519/11519 [==============================] - 1s 65us/step - loss: 2.5559e-04 - val_loss: 2.7116e-04\n",
      "Epoch 80/100\n",
      "11519/11519 [==============================] - 1s 67us/step - loss: 2.4347e-04 - val_loss: 3.0461e-04\n",
      "Epoch 81/100\n",
      "11519/11519 [==============================] - 1s 68us/step - loss: 2.5610e-04 - val_loss: 2.5879e-04\n",
      "Epoch 82/100\n",
      "11519/11519 [==============================] - 1s 75us/step - loss: 2.5134e-04 - val_loss: 2.7108e-04\n",
      "Epoch 83/100\n",
      "11519/11519 [==============================] - 1s 75us/step - loss: 2.5081e-04 - val_loss: 2.6969e-04\n",
      "Epoch 84/100\n",
      "11519/11519 [==============================] - 1s 75us/step - loss: 2.3211e-04 - val_loss: 2.7051e-04\n",
      "Epoch 85/100\n",
      "11519/11519 [==============================] - 1s 70us/step - loss: 2.3678e-04 - val_loss: 2.7548e-04\n",
      "Epoch 86/100\n",
      "11519/11519 [==============================] - 1s 74us/step - loss: 2.5827e-04 - val_loss: 2.7115e-04\n",
      "Epoch 87/100\n",
      "11519/11519 [==============================] - 1s 73us/step - loss: 2.5113e-04 - val_loss: 2.6539e-04\n",
      "Epoch 88/100\n",
      "11519/11519 [==============================] - 1s 76us/step - loss: 2.4771e-04 - val_loss: 2.7052e-04\n",
      "Epoch 89/100\n",
      "11519/11519 [==============================] - 1s 74us/step - loss: 2.4580e-04 - val_loss: 3.0018e-04\n",
      "Epoch 90/100\n",
      "11519/11519 [==============================] - 1s 72us/step - loss: 2.3794e-04 - val_loss: 2.6161e-04\n",
      "Epoch 91/100\n",
      "11519/11519 [==============================] - 1s 72us/step - loss: 2.5480e-04 - val_loss: 2.5242e-04\n",
      "Epoch 92/100\n",
      "11519/11519 [==============================] - 1s 71us/step - loss: 2.3771e-04 - val_loss: 2.9458e-04\n",
      "Epoch 93/100\n",
      "11519/11519 [==============================] - 1s 74us/step - loss: 2.3913e-04 - val_loss: 2.6288e-04\n",
      "Epoch 94/100\n",
      "11519/11519 [==============================] - 1s 72us/step - loss: 2.4455e-04 - val_loss: 2.7123e-04\n",
      "Epoch 95/100\n",
      "11519/11519 [==============================] - 1s 73us/step - loss: 2.4362e-04 - val_loss: 2.9413e-04\n",
      "Epoch 96/100\n",
      "11519/11519 [==============================] - 1s 71us/step - loss: 2.3551e-04 - val_loss: 2.6195e-04\n",
      "Epoch 97/100\n",
      "11519/11519 [==============================] - 1s 70us/step - loss: 2.4056e-04 - val_loss: 2.5129e-04\n",
      "Epoch 98/100\n",
      "11519/11519 [==============================] - 1s 79us/step - loss: 2.5339e-04 - val_loss: 3.0959e-04\n",
      "Epoch 99/100\n",
      "11519/11519 [==============================] - 1s 78us/step - loss: 2.4420e-04 - val_loss: 2.6297e-04\n",
      "Epoch 100/100\n",
      "11519/11519 [==============================] - 1s 74us/step - loss: 2.5564e-04 - val_loss: 2.5023e-04\n"
     ]
    }
   ],
   "source": [
    "# loss function and optimizer\n",
    "model.compile(loss='mean_squared_error', optimizer='adam')\n",
    "# training \n",
    "logger.info('Model training')\n",
    "history = model.fit(X_train, y_train, epochs=100, batch_size=50, # \n",
    "                    validation_data = (X_test,y_test)) # show accuracy on test data after every epoch\n",
    "# Prediction\n",
    "y_pred = model.predict(X_test)\n",
    "y_pred_train = model.predict(X_train)\n",
    "\n",
    "model.save('models/my_model.h5')"
   ]
  },
  {
   "cell_type": "code",
   "execution_count": 10,
   "metadata": {},
   "outputs": [
    {
     "data": {
      "text/plain": [
       "\"\\nlogger.info('Plotting accuracy')\\nplt.plot(history.history['acc'])\\nplt.plot(history.history['val_acc'])\\nplt.title('Model acc')\\nplt.ylabel('Accuracy')\\nplt.xlabel('Epoch')\\nplt.legend(['Train', 'Test'], loc='upper left')\\nplt.show()\\n\""
      ]
     },
     "execution_count": 10,
     "metadata": {},
     "output_type": "execute_result"
    }
   ],
   "source": [
    "'''\n",
    "logger.info('Plotting accuracy')\n",
    "plt.plot(history.history['acc'])\n",
    "plt.plot(history.history['val_acc'])\n",
    "plt.title('Model acc')\n",
    "plt.ylabel('Accuracy')\n",
    "plt.xlabel('Epoch')\n",
    "plt.legend(['Train', 'Test'], loc='upper left')\n",
    "plt.show()\n",
    "'''"
   ]
  },
  {
   "cell_type": "code",
   "execution_count": 11,
   "metadata": {},
   "outputs": [
    {
     "name": "stderr",
     "output_type": "stream",
     "text": [
      "INFO:root:Plotting loss function\n"
     ]
    },
    {
     "data": {
      "image/png": "[encoded data removed]",
      "text/plain": [
       "<Figure size 432x288 with 1 Axes>"
      ]
     },
     "metadata": {},
     "output_type": "display_data"
    }
   ],
   "source": [
    "logger.info('Plotting loss function')\n",
    "plt.plot(history.history['loss']) \n",
    "plt.plot(history.history['val_loss']) \n",
    "plt.title('Model loss') \n",
    "plt.ylabel('Loss') \n",
    "plt.xlabel('Epoch') \n",
    "plt.legend(['Train', 'Test'], loc='upper left') \n",
    "plt.show()"
   ]
  },
  {
   "cell_type": "code",
   "execution_count": 12,
   "metadata": {},
   "outputs": [
    {
     "name": "stderr",
     "output_type": "stream",
     "text": [
      "INFO:root:Plotting predictions before inverse scaling\n"
     ]
    },
    {
     "data": {
      "image/png": "[encoded data removed]",
      "text/plain": [
       "<Figure size 432x288 with 1 Axes>"
      ]
     },
     "metadata": {},
     "output_type": "display_data"
    }
   ],
   "source": [
    "# reasonable correlation between predicted and measured IR7 lifetime (here shown before inverse scaling)\n",
    "# shows that there is potential to predict instantaneous beam loss rate from operational parameters, through a dedicated neural network\n",
    "# non-linearities are still present, indicating that the model can be further improved\n",
    "\n",
    "logger.info('Plotting predictions before inverse scaling')\n",
    "fig, ax = plt.subplots()\n",
    "ax.scatter(y_test, y_pred)\n",
    "ax.plot([y_test.min(), y_test.max()], [y_test.min(), y_test.max()], 'k--', lw=4)\n",
    "ax.set_xlabel('Measured')\n",
    "ax.set_ylabel('Predicted')\n",
    "plt.yscale('log')\n",
    "plt.xscale('log')\n",
    "plt.ylim(1e-3,1)\n",
    "plt.xlim(1e-3,1)\n",
    "plt.show()"
   ]
  },
  {
   "cell_type": "code",
   "execution_count": 14,
   "metadata": {},
   "outputs": [
    {
     "name": "stderr",
     "output_type": "stream",
     "text": [
      "INFO:root:Plotting predictions after inverse scaling\n"
     ]
    },
    {
     "data": {
      "image/png": "[encoded data removed]",
      "text/plain": [
       "<Figure size 432x288 with 1 Axes>"
      ]
     },
     "metadata": {},
     "output_type": "display_data"
    }
   ],
   "source": [
    "y_test = sc.inverse_transform(y_test)\n",
    "y_pred = sc.inverse_transform(y_pred)\n",
    "\n",
    "logger.info('Plotting predictions after inverse scaling')\n",
    "fig, ax = plt.subplots()\n",
    "ax.scatter(y_test, y_pred)\n",
    "ax.plot([y_test.min(), y_test.max()], [y_test.min(), y_test.max()], 'k--', lw=4)\n",
    "ax.set_xlabel('Measured')\n",
    "ax.set_ylabel('Predicted')\n",
    "plt.yscale('log')\n",
    "plt.xscale('log')\n",
    "plt.ylim(1,2000)\n",
    "plt.xlim(1,2000)\n",
    "plt.show()"
   ]
  },
  {
   "cell_type": "code",
   "execution_count": null,
   "metadata": {},
   "outputs": [],
   "source": []
  }
 ],
 "metadata": {
  "kernelspec": {
   "display_name": "Python 3",
   "language": "python",
   "name": "python3"
  },
  "language_info": {
   "codemirror_mode": {
    "name": "ipython",
    "version": 3
   },
   "file_extension": ".py",
   "mimetype": "text/x-python",
   "name": "python",
   "nbconvert_exporter": "python",
   "pygments_lexer": "ipython3",
   "version": "3.6.5"
  }
 },
 "nbformat": 4,
 "nbformat_minor": 2
}
